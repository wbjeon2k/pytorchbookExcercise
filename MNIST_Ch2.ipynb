{
 "cells": [
  {
   "cell_type": "code",
   "execution_count": 1,
   "id": "d00b0363",
   "metadata": {},
   "outputs": [],
   "source": [
    "# import modules\n",
    "import numpy as np\n",
    "import matplotlib.pyplot as plt\n",
    "import torch\n",
    "import torch.nn as nn\n",
    "import torch.nn.functional as nn_fuction\n",
    "from torchvision import transforms, datasets"
   ]
  },
  {
   "cell_type": "code",
   "execution_count": 2,
   "id": "7b000d04",
   "metadata": {},
   "outputs": [
    {
     "name": "stdout",
     "output_type": "stream",
     "text": [
      "Using pytorch version:  1.9.0 , Device:  cuda\n"
     ]
    }
   ],
   "source": [
    "# CUDA check\n",
    "if torch.cuda.is_available():\n",
    "    DEVICE = torch.device('cuda')\n",
    "else:\n",
    "    DEVICE = torch.device('cpu')\n",
    "    \n",
    "print(\"Using pytorch version: \", torch.__version__, \", Device: \", DEVICE)"
   ]
  },
  {
   "cell_type": "code",
   "execution_count": 3,
   "id": "d27a47ea",
   "metadata": {},
   "outputs": [],
   "source": [
    "#hyperparameters\n",
    "BATCH_SIZE = 32\n",
    "EPOCH = 10"
   ]
  },
  {
   "cell_type": "code",
   "execution_count": 8,
   "id": "7ab78b77",
   "metadata": {},
   "outputs": [
    {
     "name": "stdout",
     "output_type": "stream",
     "text": [
      "\n",
      "root: data directory.\n",
      "train: true-> for training, false: for test\n",
      "download: download from web?\n",
      "transform: able to do basic preprocessing. torch.nn input --> ToTensor()\n",
      "\n"
     ]
    }
   ],
   "source": [
    "print(\n",
    "'''\n",
    "root: data directory.\n",
    "train: true-> for training, false: for test\n",
    "download: download from web?\n",
    "transform: able to do basic preprocessing. torch.nn input --> ToTensor()\n",
    "'''\n",
    ")"
   ]
  },
  {
   "cell_type": "code",
   "execution_count": 9,
   "id": "968ba67a",
   "metadata": {},
   "outputs": [],
   "source": [
    "#Get MNIST dataset\n",
    "\n",
    "train_dataset = datasets.MNIST(root = \"./data/MNIST\",\n",
    "                               train = True,\n",
    "                               download = True,\n",
    "                               transform = transforms.ToTensor())\n",
    "\n",
    "test_dataset = datasets.MNIST(root = \"./data/MNIST\",\n",
    "                               train = False,\n",
    "                               #download = True,\n",
    "                               transform = transforms.ToTensor())\n",
    "\n",
    "train_loader = torch.utils.data.DataLoader(dataset = train_dataset,\n",
    "                                           batch_size = BATCH_SIZE,\n",
    "                                           shuffle = True)\n",
    "\n",
    "test_loader = torch.utils.data.DataLoader(dataset = test_dataset,\n",
    "                                          batch_size = BATCH_SIZE,\n",
    "                                          shuffle = False)\n",
    "\n"
   ]
  },
  {
   "cell_type": "code",
   "execution_count": 11,
   "id": "359b018c",
   "metadata": {},
   "outputs": [
    {
     "name": "stdout",
     "output_type": "stream",
     "text": [
      "X_train: torch.Size([32, 1, 28, 28]) type: torch.FloatTensor\n",
      "y_train: torch.Size([32]) type: torch.LongTensor\n"
     ]
    }
   ],
   "source": [
    "'''Data size'''\n",
    "for (x_train, y_train) in train_loader:\n",
    "    print('X_train:', x_train.size(), 'type:', x_train.type())\n",
    "    print('y_train:', y_train.size(), 'type:', y_train.type())\n",
    "    break"
   ]
  },
  {
   "cell_type": "code",
   "execution_count": null,
   "id": "ab62a045",
   "metadata": {},
   "outputs": [],
   "source": [
    "#super():자식클래스에서 부모클래스의 내용을 사용하고 싶은 경우. super().부모클래스내용\n"
   ]
  }
 ],
 "metadata": {
  "kernelspec": {
   "display_name": "PytorchBook",
   "language": "python",
   "name": "pytorchbook"
  },
  "language_info": {
   "codemirror_mode": {
    "name": "ipython",
    "version": 3
   },
   "file_extension": ".py",
   "mimetype": "text/x-python",
   "name": "python",
   "nbconvert_exporter": "python",
   "pygments_lexer": "ipython3",
   "version": "3.8.11"
  }
 },
 "nbformat": 4,
 "nbformat_minor": 5
}
