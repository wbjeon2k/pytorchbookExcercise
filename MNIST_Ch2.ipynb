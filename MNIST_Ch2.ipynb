{
 "cells": [
  {
   "cell_type": "code",
   "execution_count": 1,
   "id": "d00b0363",
   "metadata": {},
   "outputs": [],
   "source": [
    "# import modules\n",
    "import numpy as np\n",
    "import matplotlib.pyplot as plt\n",
    "import torch\n",
    "import torch.nn as nn\n",
    "import torch.nn.functional as nn_fuction\n",
    "from torchvision import transforms, datasets"
   ]
  },
  {
   "cell_type": "code",
   "execution_count": 2,
   "id": "7b000d04",
   "metadata": {},
   "outputs": [
    {
     "name": "stdout",
     "output_type": "stream",
     "text": [
      "Using pytorch version:  1.9.0 , Device:  cuda\n"
     ]
    }
   ],
   "source": [
    "# CUDA check\n",
    "if torch.cuda.is_available():\n",
    "    DEVICE = torch.device('cuda')\n",
    "else:\n",
    "    DEVICE = torch.device('cpu')\n",
    "    \n",
    "print(\"Using pytorch version: \", torch.__version__, \", Device: \", DEVICE)"
   ]
  },
  {
   "cell_type": "code",
   "execution_count": 3,
   "id": "d27a47ea",
   "metadata": {},
   "outputs": [],
   "source": [
    "#hyperparameters\n",
    "BATCH_SIZE = 32\n",
    "EPOCH = 10"
   ]
  },
  {
   "cell_type": "code",
   "execution_count": 4,
   "id": "7ab78b77",
   "metadata": {},
   "outputs": [
    {
     "name": "stdout",
     "output_type": "stream",
     "text": [
      "\n",
      "root: data directory.\n",
      "train: true-> for training, false: for test\n",
      "download: download from web?\n",
      "transform: able to do basic preprocessing. torch.nn input --> ToTensor()\n",
      "\n"
     ]
    }
   ],
   "source": [
    "print(\n",
    "'''\n",
    "root: data directory.\n",
    "train: true-> for training, false: for test\n",
    "download: download from web?\n",
    "transform: able to do basic preprocessing. torch.nn input --> ToTensor()\n",
    "'''\n",
    ")"
   ]
  },
  {
   "cell_type": "code",
   "execution_count": 5,
   "id": "968ba67a",
   "metadata": {},
   "outputs": [
    {
     "name": "stderr",
     "output_type": "stream",
     "text": [
      "C:\\Users\\JWB\\Anaconda3\\lib\\site-packages\\torchvision\\datasets\\mnist.py:498: UserWarning: The given NumPy array is not writeable, and PyTorch does not support non-writeable tensors. This means you can write to the underlying (supposedly non-writeable) NumPy array using the tensor. You may want to copy the array to protect its data or make it writeable before converting it to a tensor. This type of warning will be suppressed for the rest of this program. (Triggered internally at  ..\\torch\\csrc\\utils\\tensor_numpy.cpp:180.)\n",
      "  return torch.from_numpy(parsed.astype(m[2], copy=False)).view(*s)\n"
     ]
    }
   ],
   "source": [
    "#Get MNIST dataset\n",
    "\n",
    "train_dataset = datasets.MNIST(root = \"./data/MNIST\",\n",
    "                               train = True,\n",
    "                               download = True,\n",
    "                               transform = transforms.ToTensor())\n",
    "\n",
    "test_dataset = datasets.MNIST(root = \"./data/MNIST\",\n",
    "                               train = False,\n",
    "                               #download = True,\n",
    "                               transform = transforms.ToTensor())\n",
    "\n",
    "train_loader = torch.utils.data.DataLoader(dataset = train_dataset,\n",
    "                                           batch_size = BATCH_SIZE,\n",
    "                                           shuffle = True)\n",
    "\n",
    "test_loader = torch.utils.data.DataLoader(dataset = test_dataset,\n",
    "                                          batch_size = BATCH_SIZE,\n",
    "                                          shuffle = False)\n",
    "\n"
   ]
  },
  {
   "cell_type": "code",
   "execution_count": 6,
   "id": "359b018c",
   "metadata": {},
   "outputs": [
    {
     "name": "stdout",
     "output_type": "stream",
     "text": [
      "X_train: torch.Size([32, 1, 28, 28]) type: torch.FloatTensor\n",
      "y_train: torch.Size([32]) type: torch.LongTensor\n"
     ]
    }
   ],
   "source": [
    "'''Data size'''\n",
    "for (x_train, y_train) in train_loader:\n",
    "    print('X_train:', x_train.size(), 'type:', x_train.type())\n",
    "    print('y_train:', y_train.size(), 'type:', y_train.type())\n",
    "    break"
   ]
  },
  {
   "cell_type": "code",
   "execution_count": 7,
   "id": "ab62a045",
   "metadata": {},
   "outputs": [
    {
     "data": {
      "image/png": "[encoded data removed]",
      "text/plain": [
       "<Figure size 720x72 with 10 Axes>"
      ]
     },
     "metadata": {
      "needs_background": "light"
     },
     "output_type": "display_data"
    }
   ],
   "source": [
    "\n",
    "pltsize = 1\n",
    "plt.figure(figsize=(10 * pltsize, pltsize))\n",
    "for i in range(10):\n",
    "    plt.subplot(1, 10, i + 1)\n",
    "    plt.axis('off')\n",
    "    plt.imshow(x_train[i, :, :, :].numpy().reshape(28, 28), cmap = \"gray_r\")\n",
    "    plt.title('Class: ' + str(y_train[i].item()))"
   ]
  },
  {
   "cell_type": "code",
   "execution_count": 8,
   "id": "824b67ff",
   "metadata": {},
   "outputs": [],
   "source": [
    "#MLP custom network\n",
    "#super():자식클래스에서 부모클래스의 내용을 사용하고 싶은 경우. super().부모클래스내용\n",
    "#https://stackoverflow.com/questions/42479902/how-does-the-view-method-work-in-pytorch\n",
    "#view: simillar to reshape in numpy.\n",
    "#\n",
    "class CustomNet(nn.Module):\n",
    "    \n",
    "    def __init__(self):\n",
    "        super(CustomNet, self).__init__()\n",
    "        #self.xsize = 28\n",
    "        #self.ysize = 28\n",
    "        self.fc1 = nn.Linear(28*28, 512)\n",
    "        self.fc2 = nn.Linear(512, 256)\n",
    "        self.fc3 = nn.Linear(256, 10)\n",
    "    \n",
    "    def forward(self, x):\n",
    "        #view parameter -1: All that happens is that the method will do the math for you on how to fill that dimension.\n",
    "        #For example a.view(2, -1, 4) is equivalent to a.view(2, 2, 4). [16 / (2 x 4) = 2]\n",
    "        x = x.view(-1, 28 * 28)\n",
    "        x = self.fc1(x)\n",
    "        x = nn_fuction.sigmoid(x)\n",
    "        x = self.fc2(x)\n",
    "        x = nn_fuction.sigmoid(x)\n",
    "        x = self.fc3(x)\n",
    "        x = nn_fuction.log_softmax(x, dim = 1)\n",
    "        \n",
    "        return x"
   ]
  },
  {
   "cell_type": "code",
   "execution_count": 9,
   "id": "ad1e7098",
   "metadata": {},
   "outputs": [],
   "source": [
    "#set model, optimizer, loss_function\n",
    "\n",
    "model = CustomNet().to(DEVICE)\n",
    "optimizer = torch.optim.SGD(model.parameters(), lr = 0.01, momentum = 0.5)\n",
    "loss_function = nn.CrossEntropyLoss()"
   ]
  },
  {
   "cell_type": "code",
   "execution_count": 10,
   "id": "80261c81",
   "metadata": {},
   "outputs": [
    {
     "name": "stdout",
     "output_type": "stream",
     "text": [
      "CustomNet(\n",
      "  (fc1): Linear(in_features=784, out_features=512, bias=True)\n",
      "  (fc2): Linear(in_features=512, out_features=256, bias=True)\n",
      "  (fc3): Linear(in_features=256, out_features=10, bias=True)\n",
      ")\n"
     ]
    }
   ],
   "source": [
    "\n",
    "print(model)"
   ]
  },
  {
   "cell_type": "code",
   "execution_count": 11,
   "id": "55238d1d",
   "metadata": {},
   "outputs": [],
   "source": [
    "#to method: type conversion\n",
    "#https://stackoverflow.com/questions/56722169/why-would-we-use-to-method-in-pytorch\n",
    "\n",
    "def train(model, train_loader, optimizer, log_interval):\n",
    "    model.train()\n",
    "    for batch_idx, (image, label) in enumerate(train_loader):\n",
    "        image = image.to(DEVICE)\n",
    "        label = label.to(DEVICE)\n",
    "        optimizer.zero_grad()\n",
    "        output = model(image)\n",
    "        loss = loss_function(output, label)\n",
    "        loss.backward()\n",
    "        optimizer.step()\n",
    "\n",
    "        if batch_idx % log_interval == 0:\n",
    "            print(\"Train Epoch: {} [{}/{} ({:.0f}%)]\\tTrain Loss: {:.6f}\".format(\n",
    "                epoch, batch_idx * len(image), \n",
    "                len(train_loader.dataset), 100. * batch_idx / len(train_loader), \n",
    "                loss.item()))"
   ]
  },
  {
   "cell_type": "code",
   "execution_count": 12,
   "id": "dcba5d4e",
   "metadata": {},
   "outputs": [],
   "source": [
    "def test_phase(model, test_loader):\n",
    "    model.eval()\n",
    "    test_loss = 0\n",
    "    correct = 0\n",
    "    \n",
    "    #no_grad: locally disable grad. reduce memory consumption\n",
    "    #https://pytorch.org/docs/stable/generated/torch.no_grad.html?highlight=no_grad#torch.no_grad\n",
    "    with torch.no_grad():\n",
    "        for image, label in test_loader:\n",
    "            image = image.to(DEVICE)\n",
    "            label = label.to(DEVICE)\n",
    "            output = model(image)\n",
    "            \n",
    "            test_loss += loss_function(output, label).item()\n",
    "            prediction = output.max(1, keepdim = True)[1]\n",
    "            #view_as method https://pytorch.org/docs/stable/generated/torch.Tensor.view_as.html\n",
    "            correct += prediction.eq(label.view_as(prediction)).sum().item()\n",
    "            \n",
    "            \n",
    "    \n",
    "    test_loss /= (len(test_loader.dataset) / BATCH_SIZE)\n",
    "    test_accuracy = 100. * correct / len(test_loader.dataset)\n",
    "    return test_loss, test_accuracy"
   ]
  },
  {
   "cell_type": "code",
   "execution_count": 13,
   "id": "37b942fa",
   "metadata": {},
   "outputs": [
    {
     "name": "stderr",
     "output_type": "stream",
     "text": [
      "C:\\Users\\JWB\\Anaconda3\\lib\\site-packages\\torch\\nn\\functional.py:1805: UserWarning: nn.functional.sigmoid is deprecated. Use torch.sigmoid instead.\n",
      "  warnings.warn(\"nn.functional.sigmoid is deprecated. Use torch.sigmoid instead.\")\n"
     ]
    },
    {
     "name": "stdout",
     "output_type": "stream",
     "text": [
      "Train Epoch: 1 [0/60000 (0%)]\tTrain Loss: 2.364248\n",
      "Train Epoch: 1 [6400/60000 (11%)]\tTrain Loss: 2.298926\n",
      "Train Epoch: 1 [12800/60000 (21%)]\tTrain Loss: 2.319042\n",
      "Train Epoch: 1 [19200/60000 (32%)]\tTrain Loss: 2.305165\n",
      "Train Epoch: 1 [25600/60000 (43%)]\tTrain Loss: 2.305377\n",
      "Train Epoch: 1 [32000/60000 (53%)]\tTrain Loss: 2.279786\n",
      "Train Epoch: 1 [38400/60000 (64%)]\tTrain Loss: 2.311144\n",
      "Train Epoch: 1 [44800/60000 (75%)]\tTrain Loss: 2.280309\n",
      "Train Epoch: 1 [51200/60000 (85%)]\tTrain Loss: 2.213023\n",
      "Train Epoch: 1 [57600/60000 (96%)]\tTrain Loss: 2.197090\n",
      "\n",
      "[EPOCH: 1], \tTest Loss: 2.2406, \tTest Accuracy: 30.13 % \n",
      "\n",
      "Train Epoch: 2 [0/60000 (0%)]\tTrain Loss: 2.232447\n",
      "Train Epoch: 2 [6400/60000 (11%)]\tTrain Loss: 2.195608\n",
      "Train Epoch: 2 [12800/60000 (21%)]\tTrain Loss: 2.200926\n",
      "Train Epoch: 2 [19200/60000 (32%)]\tTrain Loss: 2.096843\n",
      "Train Epoch: 2 [25600/60000 (43%)]\tTrain Loss: 1.955926\n",
      "Train Epoch: 2 [32000/60000 (53%)]\tTrain Loss: 1.954063\n",
      "Train Epoch: 2 [38400/60000 (64%)]\tTrain Loss: 1.959880\n",
      "Train Epoch: 2 [44800/60000 (75%)]\tTrain Loss: 1.556194\n",
      "Train Epoch: 2 [51200/60000 (85%)]\tTrain Loss: 1.419056\n",
      "Train Epoch: 2 [57600/60000 (96%)]\tTrain Loss: 1.378225\n",
      "\n",
      "[EPOCH: 2], \tTest Loss: 1.2808, \tTest Accuracy: 61.69 % \n",
      "\n",
      "Train Epoch: 3 [0/60000 (0%)]\tTrain Loss: 1.383826\n",
      "Train Epoch: 3 [6400/60000 (11%)]\tTrain Loss: 1.384363\n",
      "Train Epoch: 3 [12800/60000 (21%)]\tTrain Loss: 1.223482\n",
      "Train Epoch: 3 [19200/60000 (32%)]\tTrain Loss: 0.923144\n",
      "Train Epoch: 3 [25600/60000 (43%)]\tTrain Loss: 1.035007\n",
      "Train Epoch: 3 [32000/60000 (53%)]\tTrain Loss: 1.247163\n",
      "Train Epoch: 3 [38400/60000 (64%)]\tTrain Loss: 1.026061\n",
      "Train Epoch: 3 [44800/60000 (75%)]\tTrain Loss: 0.766243\n",
      "Train Epoch: 3 [51200/60000 (85%)]\tTrain Loss: 0.872779\n",
      "Train Epoch: 3 [57600/60000 (96%)]\tTrain Loss: 0.740889\n",
      "\n",
      "[EPOCH: 3], \tTest Loss: 0.7349, \tTest Accuracy: 78.79 % \n",
      "\n",
      "Train Epoch: 4 [0/60000 (0%)]\tTrain Loss: 0.898363\n",
      "Train Epoch: 4 [6400/60000 (11%)]\tTrain Loss: 0.931003\n",
      "Train Epoch: 4 [12800/60000 (21%)]\tTrain Loss: 0.682461\n",
      "Train Epoch: 4 [19200/60000 (32%)]\tTrain Loss: 0.825964\n",
      "Train Epoch: 4 [25600/60000 (43%)]\tTrain Loss: 0.346872\n",
      "Train Epoch: 4 [32000/60000 (53%)]\tTrain Loss: 0.669407\n",
      "Train Epoch: 4 [38400/60000 (64%)]\tTrain Loss: 0.777506\n",
      "Train Epoch: 4 [44800/60000 (75%)]\tTrain Loss: 0.548955\n",
      "Train Epoch: 4 [51200/60000 (85%)]\tTrain Loss: 0.687342\n",
      "Train Epoch: 4 [57600/60000 (96%)]\tTrain Loss: 0.544138\n",
      "\n",
      "[EPOCH: 4], \tTest Loss: 0.5576, \tTest Accuracy: 83.81 % \n",
      "\n",
      "Train Epoch: 5 [0/60000 (0%)]\tTrain Loss: 0.409100\n",
      "Train Epoch: 5 [6400/60000 (11%)]\tTrain Loss: 0.555684\n",
      "Train Epoch: 5 [12800/60000 (21%)]\tTrain Loss: 0.544880\n",
      "Train Epoch: 5 [19200/60000 (32%)]\tTrain Loss: 0.571419\n",
      "Train Epoch: 5 [25600/60000 (43%)]\tTrain Loss: 0.439599\n",
      "Train Epoch: 5 [32000/60000 (53%)]\tTrain Loss: 0.492140\n",
      "Train Epoch: 5 [38400/60000 (64%)]\tTrain Loss: 0.476833\n",
      "Train Epoch: 5 [44800/60000 (75%)]\tTrain Loss: 0.551257\n",
      "Train Epoch: 5 [51200/60000 (85%)]\tTrain Loss: 0.500663\n",
      "Train Epoch: 5 [57600/60000 (96%)]\tTrain Loss: 0.702840\n",
      "\n",
      "[EPOCH: 5], \tTest Loss: 0.4650, \tTest Accuracy: 86.43 % \n",
      "\n",
      "Train Epoch: 6 [0/60000 (0%)]\tTrain Loss: 0.851487\n",
      "Train Epoch: 6 [6400/60000 (11%)]\tTrain Loss: 0.320787\n",
      "Train Epoch: 6 [12800/60000 (21%)]\tTrain Loss: 0.394721\n",
      "Train Epoch: 6 [19200/60000 (32%)]\tTrain Loss: 0.332474\n",
      "Train Epoch: 6 [25600/60000 (43%)]\tTrain Loss: 0.775711\n",
      "Train Epoch: 6 [32000/60000 (53%)]\tTrain Loss: 0.426265\n",
      "Train Epoch: 6 [38400/60000 (64%)]\tTrain Loss: 0.553011\n",
      "Train Epoch: 6 [44800/60000 (75%)]\tTrain Loss: 0.391410\n",
      "Train Epoch: 6 [51200/60000 (85%)]\tTrain Loss: 0.584379\n",
      "Train Epoch: 6 [57600/60000 (96%)]\tTrain Loss: 0.450156\n",
      "\n",
      "[EPOCH: 6], \tTest Loss: 0.4133, \tTest Accuracy: 88.07 % \n",
      "\n",
      "Train Epoch: 7 [0/60000 (0%)]\tTrain Loss: 0.164226\n",
      "Train Epoch: 7 [6400/60000 (11%)]\tTrain Loss: 0.333243\n",
      "Train Epoch: 7 [12800/60000 (21%)]\tTrain Loss: 0.599851\n",
      "Train Epoch: 7 [19200/60000 (32%)]\tTrain Loss: 0.448463\n",
      "Train Epoch: 7 [25600/60000 (43%)]\tTrain Loss: 0.612908\n",
      "Train Epoch: 7 [32000/60000 (53%)]\tTrain Loss: 0.282169\n",
      "Train Epoch: 7 [38400/60000 (64%)]\tTrain Loss: 0.545481\n",
      "Train Epoch: 7 [44800/60000 (75%)]\tTrain Loss: 0.390921\n",
      "Train Epoch: 7 [51200/60000 (85%)]\tTrain Loss: 0.425585\n",
      "Train Epoch: 7 [57600/60000 (96%)]\tTrain Loss: 0.798727\n",
      "\n",
      "[EPOCH: 7], \tTest Loss: 0.3839, \tTest Accuracy: 88.96 % \n",
      "\n",
      "Train Epoch: 8 [0/60000 (0%)]\tTrain Loss: 0.577594\n",
      "Train Epoch: 8 [6400/60000 (11%)]\tTrain Loss: 0.442246\n",
      "Train Epoch: 8 [12800/60000 (21%)]\tTrain Loss: 0.235589\n",
      "Train Epoch: 8 [19200/60000 (32%)]\tTrain Loss: 1.058362\n",
      "Train Epoch: 8 [25600/60000 (43%)]\tTrain Loss: 0.236062\n",
      "Train Epoch: 8 [32000/60000 (53%)]\tTrain Loss: 0.222636\n",
      "Train Epoch: 8 [38400/60000 (64%)]\tTrain Loss: 0.821104\n",
      "Train Epoch: 8 [44800/60000 (75%)]\tTrain Loss: 0.420130\n",
      "Train Epoch: 8 [51200/60000 (85%)]\tTrain Loss: 0.356689\n",
      "Train Epoch: 8 [57600/60000 (96%)]\tTrain Loss: 0.259369\n",
      "\n",
      "[EPOCH: 8], \tTest Loss: 0.3603, \tTest Accuracy: 89.62 % \n",
      "\n",
      "Train Epoch: 9 [0/60000 (0%)]\tTrain Loss: 0.532021\n",
      "Train Epoch: 9 [6400/60000 (11%)]\tTrain Loss: 0.516868\n",
      "Train Epoch: 9 [12800/60000 (21%)]\tTrain Loss: 0.153290\n",
      "Train Epoch: 9 [19200/60000 (32%)]\tTrain Loss: 0.536632\n",
      "Train Epoch: 9 [25600/60000 (43%)]\tTrain Loss: 0.324733\n",
      "Train Epoch: 9 [32000/60000 (53%)]\tTrain Loss: 0.702704\n",
      "Train Epoch: 9 [38400/60000 (64%)]\tTrain Loss: 0.351121\n",
      "Train Epoch: 9 [44800/60000 (75%)]\tTrain Loss: 0.424890\n",
      "Train Epoch: 9 [51200/60000 (85%)]\tTrain Loss: 0.247578\n",
      "Train Epoch: 9 [57600/60000 (96%)]\tTrain Loss: 0.228211\n",
      "\n",
      "[EPOCH: 9], \tTest Loss: 0.3476, \tTest Accuracy: 89.92 % \n",
      "\n",
      "Train Epoch: 10 [0/60000 (0%)]\tTrain Loss: 0.478346\n",
      "Train Epoch: 10 [6400/60000 (11%)]\tTrain Loss: 0.225560\n",
      "Train Epoch: 10 [12800/60000 (21%)]\tTrain Loss: 0.491577\n",
      "Train Epoch: 10 [19200/60000 (32%)]\tTrain Loss: 0.302185\n",
      "Train Epoch: 10 [25600/60000 (43%)]\tTrain Loss: 0.258892\n",
      "Train Epoch: 10 [32000/60000 (53%)]\tTrain Loss: 0.469755\n",
      "Train Epoch: 10 [38400/60000 (64%)]\tTrain Loss: 0.194293\n",
      "Train Epoch: 10 [44800/60000 (75%)]\tTrain Loss: 0.295103\n",
      "Train Epoch: 10 [51200/60000 (85%)]\tTrain Loss: 0.194237\n",
      "Train Epoch: 10 [57600/60000 (96%)]\tTrain Loss: 0.189977\n",
      "\n",
      "[EPOCH: 10], \tTest Loss: 0.3400, \tTest Accuracy: 90.31 % \n",
      "\n"
     ]
    }
   ],
   "source": [
    "#10. MLP 학습 실행하며 Train, Test set의 Loss 및 Test set Accuracy 확인하기\n",
    "for epoch in range(1, EPOCH + 1):\n",
    "    train(model, train_loader, optimizer, log_interval = 200)\n",
    "    test_loss, test_accuracy = test_phase(model, test_loader)\n",
    "    print(\"\\n[EPOCH: {}], \\tTest Loss: {:.4f}, \\tTest Accuracy: {:.2f} % \\n\".format(\n",
    "        epoch, test_loss, test_accuracy))"
   ]
  },
  {
   "cell_type": "code",
   "execution_count": null,
   "id": "d26a3cd0",
   "metadata": {},
   "outputs": [],
   "source": []
  }
 ],
 "metadata": {
  "kernelspec": {
   "display_name": "PytorchBook",
   "language": "python",
   "name": "pytorchbook"
  },
  "language_info": {
   "codemirror_mode": {
    "name": "ipython",
    "version": 3
   },
   "file_extension": ".py",
   "mimetype": "text/x-python",
   "name": "python",
   "nbconvert_exporter": "python",
   "pygments_lexer": "ipython3",
   "version": "3.8.11"
  }
 },
 "nbformat": 4,
 "nbformat_minor": 5
}
