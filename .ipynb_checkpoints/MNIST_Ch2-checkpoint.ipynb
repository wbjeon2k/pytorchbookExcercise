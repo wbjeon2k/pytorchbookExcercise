{
 "cells": [
  {
   "cell_type": "code",
   "execution_count": 1,
   "id": "d00b0363",
   "metadata": {},
   "outputs": [],
   "source": [
    "# import modules\n",
    "import numpy as np\n",
    "import matplotlib.pyplot as plt\n",
    "import torch\n",
    "import torch.nn as nn\n",
    "import torch.nn.functional as nn_fuction\n",
    "import torch.utils\n",
    "import torchvision\n",
    "from torchvision import transforms, datasets"
   ]
  },
  {
   "cell_type": "code",
   "execution_count": 2,
   "id": "7b000d04",
   "metadata": {},
   "outputs": [
    {
     "name": "stdout",
     "output_type": "stream",
     "text": [
      "Using pytorch version:  1.9.0 , Device:  cuda\n"
     ]
    }
   ],
   "source": [
    "# CUDA check\n",
    "if torch.cuda.is_available():\n",
    "    DEVICE = torch.device('cuda')\n",
    "else:\n",
    "    DEVICE = torch.device('cpu')\n",
    "    \n",
    "print(\"Using pytorch version: \", torch.__version__, \", Device: \", DEVICE)"
   ]
  },
  {
   "cell_type": "code",
   "execution_count": 3,
   "id": "d27a47ea",
   "metadata": {},
   "outputs": [],
   "source": [
    "#hyperparameters\n",
    "BATCH_SIZE = 32\n",
    "EPOCH = 10"
   ]
  },
  {
   "cell_type": "code",
   "execution_count": 4,
   "id": "7ab78b77",
   "metadata": {},
   "outputs": [
    {
     "name": "stdout",
     "output_type": "stream",
     "text": [
      "\n",
      "root: data directory.\n",
      "train: true-> for training, false: for test\n",
      "download: download from web?\n",
      "transform: able to do basic preprocessing. torch.nn input --> ToTensor()\n",
      "\n"
     ]
    }
   ],
   "source": [
    "print(\n",
    "'''\n",
    "root: data directory.\n",
    "train: true-> for training, false: for test\n",
    "download: download from web?\n",
    "transform: able to do basic preprocessing. torch.nn input --> ToTensor()\n",
    "'''\n",
    ")"
   ]
  },
  {
   "cell_type": "code",
   "execution_count": 5,
   "id": "968ba67a",
   "metadata": {},
   "outputs": [
    {
     "name": "stderr",
     "output_type": "stream",
     "text": [
      "C:\\Users\\JWB\\Anaconda3\\lib\\site-packages\\torchvision\\datasets\\mnist.py:498: UserWarning: The given NumPy array is not writeable, and PyTorch does not support non-writeable tensors. This means you can write to the underlying (supposedly non-writeable) NumPy array using the tensor. You may want to copy the array to protect its data or make it writeable before converting it to a tensor. This type of warning will be suppressed for the rest of this program. (Triggered internally at  ..\\torch\\csrc\\utils\\tensor_numpy.cpp:180.)\n",
      "  return torch.from_numpy(parsed.astype(m[2], copy=False)).view(*s)\n"
     ]
    }
   ],
   "source": [
    "#Get MNIST dataset\n",
    "\n",
    "train_dataset = datasets.MNIST(root = \"./data/MNIST\",\n",
    "                               train = True,\n",
    "                               download = True,\n",
    "                               transform = transforms.ToTensor())\n",
    "\n",
    "test_dataset = datasets.MNIST(root = \"./data/MNIST\",\n",
    "                               train = False,\n",
    "                               #download = True,\n",
    "                               transform = transforms.ToTensor())\n",
    "\n",
    "train_loader = torch.utils.data.DataLoader(dataset = train_dataset,\n",
    "                                           batch_size = BATCH_SIZE,\n",
    "                                           shuffle = True)\n",
    "\n",
    "test_loader = torch.utils.data.DataLoader(dataset = test_dataset,\n",
    "                                          batch_size = BATCH_SIZE,\n",
    "                                          shuffle = False)\n",
    "\n"
   ]
  },
  {
   "cell_type": "code",
   "execution_count": 6,
   "id": "359b018c",
   "metadata": {},
   "outputs": [
    {
     "name": "stdout",
     "output_type": "stream",
     "text": [
      "X_train: torch.Size([32, 1, 28, 28]) type: torch.FloatTensor\n",
      "y_train: torch.Size([32]) type: torch.LongTensor\n"
     ]
    }
   ],
   "source": [
    "'''Data size'''\n",
    "for (x_train, y_train) in train_loader:\n",
    "    print('X_train:', x_train.size(), 'type:', x_train.type())\n",
    "    print('y_train:', y_train.size(), 'type:', y_train.type())\n",
    "    break"
   ]
  },
  {
   "cell_type": "code",
   "execution_count": 7,
   "id": "ab62a045",
   "metadata": {},
   "outputs": [
    {
     "data": {
      "image/png": "[encoded data removed]",
      "text/plain": [
       "<Figure size 720x72 with 10 Axes>"
      ]
     },
     "metadata": {
      "needs_background": "light"
     },
     "output_type": "display_data"
    }
   ],
   "source": [
    "\n",
    "pltsize = 1\n",
    "plt.figure(figsize=(10 * pltsize, pltsize))\n",
    "for i in range(10):\n",
    "    plt.subplot(1, 10, i + 1)\n",
    "    plt.axis('off')\n",
    "    plt.imshow(x_train[i, :, :, :].numpy().reshape(28, 28), cmap = \"gray_r\")\n",
    "    plt.title('Class: ' + str(y_train[i].item()))"
   ]
  },
  {
   "cell_type": "code",
   "execution_count": 8,
   "id": "434ee689",
   "metadata": {},
   "outputs": [],
   "source": [
    "#MLP custom network\n",
    "#super():자식클래스에서 부모클래스의 내용을 사용하고 싶은 경우. super().부모클래스내용\n",
    "#https://stackoverflow.com/questions/42479902/how-does-the-view-method-work-in-pytorch\n",
    "#view: simillar to reshape in numpy.\n",
    "#\n",
    "class CustomNet(nn.Module):\n",
    "    \n",
    "    def __init__(self):\n",
    "        super(CustomNet, self).__init__()\n",
    "        #self.xsize = 28\n",
    "        #self.ysize = 28\n",
    "        self.fc1 = nn.Linear(28*28, 512)\n",
    "        self.fc2 = nn.Linear(512, 256)\n",
    "        self.fc3 = nn.Linear(256, 10)\n",
    "    \n",
    "    def forward(self, x):\n",
    "        #view parameter -1: All that happens is that the method will do the math for you on how to fill that dimension.\n",
    "        #For example a.view(2, -1, 4) is equivalent to a.view(2, 2, 4). [16 / (2 x 4) = 2]\n",
    "        x = x.view(-1, 28 * 28)\n",
    "        x = self.fc1(x)\n",
    "        #x = torch.sigmoid(x)\n",
    "        x = torch.relu(x)\n",
    "        x = self.fc2(x)\n",
    "        #x = torch.sigmoid(x)\n",
    "        x = torch.relu(x)\n",
    "        x = self.fc3(x)\n",
    "        x = torch.log_softmax(x, dim = 1)\n",
    "        \n",
    "        return x"
   ]
  },
  {
   "cell_type": "code",
   "execution_count": 9,
   "id": "c6ca1ac5",
   "metadata": {},
   "outputs": [],
   "source": [
    "#set model, optimizer, loss_function\n",
    "\n",
    "model = CustomNet().to(DEVICE)\n",
    "optimizer = torch.optim.SGD(model.parameters(), lr = 0.01, momentum = 0.5)\n",
    "loss_function = nn.CrossEntropyLoss()"
   ]
  },
  {
   "cell_type": "code",
   "execution_count": 10,
   "id": "b25311e3",
   "metadata": {},
   "outputs": [
    {
     "name": "stdout",
     "output_type": "stream",
     "text": [
      "CustomNet(\n",
      "  (fc1): Linear(in_features=784, out_features=512, bias=True)\n",
      "  (fc2): Linear(in_features=512, out_features=256, bias=True)\n",
      "  (fc3): Linear(in_features=256, out_features=10, bias=True)\n",
      ")\n"
     ]
    }
   ],
   "source": [
    "\n",
    "print(model)"
   ]
  },
  {
   "cell_type": "code",
   "execution_count": 11,
   "id": "a7dbf83b",
   "metadata": {},
   "outputs": [],
   "source": [
    "#to method: type conversion\n",
    "#https://stackoverflow.com/questions/56722169/why-would-we-use-to-method-in-pytorch\n",
    "\n",
    "def train(model, train_loader, optimizer, log_interval):\n",
    "    model.train()\n",
    "    for batch_idx, (image, label) in enumerate(train_loader):\n",
    "        image = image.to(DEVICE)\n",
    "        label = label.to(DEVICE)\n",
    "        optimizer.zero_grad()\n",
    "        output = model(image)\n",
    "        loss = loss_function(output, label)\n",
    "        loss.backward()\n",
    "        optimizer.step()\n",
    "        \n",
    "        \n",
    "        #if batch_idx % log_interval == 0:\n",
    "            #print(\"Train Epoch: {} [{}/{} ({:.0f}%)]\\tTrain Loss: {:.6f}\".format(\n",
    "                #epoch, batch_idx * len(image), \n",
    "                #len(train_loader.dataset), 100. * batch_idx / len(train_loader), \n",
    "                #loss.item()))\n",
    "        "
   ]
  },
  {
   "cell_type": "code",
   "execution_count": 12,
   "id": "d2aa1b4d",
   "metadata": {},
   "outputs": [],
   "source": [
    "def test_phase(model, test_loader):\n",
    "    model.eval()\n",
    "    test_loss = 0\n",
    "    correct = 0\n",
    "    \n",
    "    #no_grad: locally disable grad. reduce memory consumption\n",
    "    #https://pytorch.org/docs/stable/generated/torch.no_grad.html?highlight=no_grad#torch.no_grad\n",
    "    with torch.no_grad():\n",
    "        for image, label in test_loader:\n",
    "            image = image.to(DEVICE)\n",
    "            label = label.to(DEVICE)\n",
    "            output = model(image)\n",
    "            \n",
    "            test_loss += loss_function(output, label).item()\n",
    "            prediction = output.max(1, keepdim = True)[1]\n",
    "            #view_as method https://pytorch.org/docs/stable/generated/torch.Tensor.view_as.html\n",
    "            correct += prediction.eq(label.view_as(prediction)).sum().item()\n",
    "            \n",
    "            \n",
    "    \n",
    "    test_loss /= (len(test_loader.dataset) / BATCH_SIZE)\n",
    "    test_accuracy = 100. * correct / len(test_loader.dataset)\n",
    "    return test_loss, test_accuracy"
   ]
  },
  {
   "cell_type": "code",
   "execution_count": 13,
   "id": "d75c890f",
   "metadata": {},
   "outputs": [],
   "source": [
    "from torch.utils.tensorboard import SummaryWriter\n",
    "# 기본 `log_dir` 은 \"runs\"이며, 여기서는 더 구체적으로 지정하였습니다\n",
    "writer = SummaryWriter()"
   ]
  },
  {
   "cell_type": "code",
   "execution_count": 14,
   "id": "466316c6",
   "metadata": {},
   "outputs": [],
   "source": [
    "# 임의의 학습 이미지를 가져옵니다\n",
    "dataiter = iter(train_loader)\n",
    "images, labels = dataiter.next()\n",
    "\n",
    "# 이미지 그리드를 만듭니다.\n",
    "img_grid = torchvision.utils.make_grid(images)\n",
    "\n",
    "#tensorboard\n",
    "#writer.add_image('MNIST', img_grid)"
   ]
  },
  {
   "cell_type": "code",
   "execution_count": 15,
   "id": "c906025f",
   "metadata": {},
   "outputs": [],
   "source": [
    "#tensorboard --logdir=runs\n"
   ]
  },
  {
   "cell_type": "code",
   "execution_count": 16,
   "id": "b2af87a3",
   "metadata": {},
   "outputs": [
    {
     "name": "stdout",
     "output_type": "stream",
     "text": [
      "\n",
      "[EPOCH: 1], \tTest Loss: 0.3195, \tTest Accuracy: 90.88 % \n",
      "\n",
      "\n",
      "[EPOCH: 2], \tTest Loss: 0.2407, \tTest Accuracy: 92.85 % \n",
      "\n",
      "\n",
      "[EPOCH: 3], \tTest Loss: 0.1846, \tTest Accuracy: 94.64 % \n",
      "\n",
      "\n",
      "[EPOCH: 4], \tTest Loss: 0.1583, \tTest Accuracy: 95.44 % \n",
      "\n",
      "\n",
      "[EPOCH: 5], \tTest Loss: 0.1388, \tTest Accuracy: 95.89 % \n",
      "\n",
      "\n",
      "[EPOCH: 6], \tTest Loss: 0.1198, \tTest Accuracy: 96.48 % \n",
      "\n",
      "\n",
      "[EPOCH: 7], \tTest Loss: 0.1044, \tTest Accuracy: 96.93 % \n",
      "\n",
      "\n",
      "[EPOCH: 8], \tTest Loss: 0.0945, \tTest Accuracy: 97.12 % \n",
      "\n",
      "\n",
      "[EPOCH: 9], \tTest Loss: 0.0890, \tTest Accuracy: 97.20 % \n",
      "\n",
      "\n",
      "[EPOCH: 10], \tTest Loss: 0.0818, \tTest Accuracy: 97.53 % \n",
      "\n"
     ]
    }
   ],
   "source": [
    "#10. MLP 학습 실행하며 Train, Test set의 Loss 및 Test set Accuracy 확인하기\n",
    "\n",
    "for epoch in range(1, EPOCH + 1):\n",
    "    train(model, train_loader, optimizer, log_interval = 2)\n",
    "    test_loss, test_accuracy = test_phase(model, test_loader)\n",
    "    #tensorboard\n",
    "    writer.add_scalar(\"Loss/Train\", test_loss, epoch)\n",
    "    print(\"\\n[EPOCH: {}], \\tTest Loss: {:.4f}, \\tTest Accuracy: {:.2f} % \\n\".format(\n",
    "        epoch, test_loss, test_accuracy))\n",
    "    \n",
    "    \n",
    "writer.flush()\n",
    "writer.close()"
   ]
  },
  {
   "cell_type": "code",
   "execution_count": 17,
   "id": "9b0299f6",
   "metadata": {},
   "outputs": [
    {
     "name": "stdout",
     "output_type": "stream",
     "text": [
      "^C\n"
     ]
    }
   ],
   "source": [
    "! tensorboard --logdir=runs"
   ]
  },
  {
   "cell_type": "code",
   "execution_count": null,
   "id": "904894c2",
   "metadata": {},
   "outputs": [],
   "source": []
  },
  {
   "cell_type": "code",
   "execution_count": null,
   "id": "72f408d8",
   "metadata": {},
   "outputs": [],
   "source": []
  }
 ],
 "metadata": {
  "kernelspec": {
   "display_name": "PytorchBook",
   "language": "python",
   "name": "pytorchbook"
  },
  "language_info": {
   "codemirror_mode": {
    "name": "ipython",
    "version": 3
   },
   "file_extension": ".py",
   "mimetype": "text/x-python",
   "name": "python",
   "nbconvert_exporter": "python",
   "pygments_lexer": "ipython3",
   "version": "3.8.11"
  }
 },
 "nbformat": 4,
 "nbformat_minor": 5
}
