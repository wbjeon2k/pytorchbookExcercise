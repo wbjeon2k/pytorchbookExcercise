{
  "nbformat": 4,
  "nbformat_minor": 0,
  "metadata": {
    "colab": {
      "name": "AIHW1.ipynb",
      "provenance": [],
      "collapsed_sections": [],
      "authorship_tag": "ABX9TyODvVOrpXBSIDSEnrIYU1CJ",
      "include_colab_link": true
    },
    "kernelspec": {
      "name": "python3",
      "display_name": "Python 3"
    },
    "language_info": {
      "name": "python"
    }
  },
  "cells": [
    {
      "cell_type": "markdown",
      "metadata": {
        "id": "view-in-github",
        "colab_type": "text"
      },
      "source": [
        "<a href=\"https://colab.research.google.com/github/wbjeon2k/pytorchbookExcercise/blob/master/AIHW1.ipynb\" target=\"_parent\"><img src=\"https://colab.research.google.com/assets/colab-badge.svg\" alt=\"Open In Colab\"/></a>"
      ]
    },
    {
      "cell_type": "code",
      "metadata": {
        "id": "npichm59vAKc"
      },
      "source": [
        "\n",
        "# libraries _ should not change\n",
        "import pandas as pd\n",
        "import numpy as np\n",
        "from sklearn.datasets import load_iris # iris_dataset\n",
        "import matplotlib.pyplot as plt # plot function\n",
        "\n",
        "# iris dataset _ should not change\n",
        "iris = load_iris() \n",
        "dataset = pd.DataFrame(data = np.c_[iris['data'], iris['target']], columns = iris['feature_names']+['target'])\n",
        "total_data = dataset.iloc[:, 2:5].values # list of [petal length, petal width, iris name] -> [x_1, x_2, y]\n",
        "# y distribution = (0: Setosa, 1: Versicolor, 2: Virginica)\n",
        "from logging import exception\n",
        "#print(total_data)"
      ],
      "execution_count": 1,
      "outputs": []
    },
    {
      "cell_type": "code",
      "metadata": {
        "colab": {
          "base_uri": "https://localhost:8080/"
        },
        "id": "N7Mtaakk9aPp",
        "outputId": "d4ffbe9c-bf7b-4526-be10-7c4e3d979cb7"
      },
      "source": [
        "\n",
        "# write the code of model (Logistic regression)\n",
        "# your output should be list of the linear equation's theta vector \n",
        "# 1_theta is classifying whether Setosa or not.\n",
        "# 2_theta is classifying whether Virginica or not.\n",
        "\n",
        "#static random seed as 0,\n",
        "#reduce metric randomness\n",
        "np.random.seed(0)\n",
        "\n",
        "learning_rate = 1e-3\n",
        "thetas = np.zeros((2,2),dtype=float)\n",
        "#thetas = np.random.rand(2,2)\n",
        "\n",
        "#custom sigmoid function\n",
        "def sigmoid(x):\n",
        "    return 1 / (1 + np.exp(-x))\n",
        "\n",
        "#if h(x) >= 0.5, round up as 1\n",
        "#p > 0.5 --> regard as true.\n",
        "def y_hat_round(x):\n",
        "    #if (x>= 0.4):\n",
        "    if (x>= 0.5):\n",
        "        return 1.0\n",
        "    else:\n",
        "        return 0.0\n",
        "\n",
        "#if the label == 2, it is Virginica.\n",
        "#return y = 1\n",
        "def is_virginica(x):\n",
        "    t = x.astype(int)\n",
        "    if (t == 2):\n",
        "        return 1.0\n",
        "    else:\n",
        "        return 0.0\n",
        "\n",
        "#gets a loss per a data point.\n",
        "#sum of all x[i] is the total loss.\n",
        "#Loss(y^hat , y)\n",
        "def logistic_loss_function(y_hat, y):\n",
        "    #print(y_hat, y)\n",
        "    assert(y_hat >= 0.0 and y_hat <= 1.0)\n",
        "    if (y == 1.0):\n",
        "        return -np.log(y_hat)\n",
        "    elif (y == 0.0):\n",
        "        return -np.log(1 - y_hat)\n",
        "    else:\n",
        "        assert(y==1 or y==0)\n",
        "\n",
        "\n",
        "#number of learning iteration for gradient descent\n",
        "iterate = 1000\n",
        "\n",
        "#train theta_2, virginica or not.\n",
        "#does not split into test/train set. use all 150 data points\n",
        "for train in range(iterate):\n",
        "    #print(f'{train}th learning')\n",
        "    #print(f'start with parameters \\n {thetas},\\n learning rate {learning_rate}')\n",
        "\n",
        "    #set gradient, loss as 0\n",
        "    grads = np.zeros((2,2))\n",
        "    loss = np.zeros(2)\n",
        "    \n",
        "    for i in range(150):\n",
        "        #ith data\n",
        "        x_i = total_data[i][0:2]\n",
        "        #ith label\n",
        "        label_i = total_data[i][2]\n",
        "\n",
        "        #z = theta[1]*x\n",
        "        y_vir_z = thetas[1][0]*x_i[0] + thetas[1][1]*x_i[1]\n",
        "        #equivalent to y_hat = sigmoid(z)\n",
        "        y_vir = sigmoid(y_vir_z)\n",
        "\n",
        "        #gradient calculation phase.\n",
        "        #(h(x[i]) - y)*x[i][j]\n",
        "        #if label is virginica, answer y == 1\n",
        "        #else, answer y == 0\n",
        "        grads[1][0] += (y_vir - is_virginica(label_i)) * x_i[0]\n",
        "        grads[1][1] += (y_vir - is_virginica(label_i)) * x_i[1]\n",
        "\n",
        "        loss[1] += logistic_loss_function(y_vir, is_virginica(label_i))\n",
        "\n",
        "    if(train % 100 == 0):\n",
        "        #print(f'{train}th iteration, Loss: {loss[1]}')\n",
        "    #gradient descent\n",
        "    thetas[1][0] -= learning_rate * grads[1][0]\n",
        "    thetas[1][1] -= learning_rate * grads[1][1]\n",
        "\n",
        "print(f'thetas[1]: {thetas[1]}')\n"
      ],
      "execution_count": 2,
      "outputs": [
        {
          "output_type": "stream",
          "name": "stdout",
          "text": [
            "0th iteration, Loss: 103.97207708399195\n",
            "100th iteration, Loss: 92.09059860392728\n",
            "200th iteration, Loss: 84.32788870254049\n",
            "300th iteration, Loss: 79.08198560222698\n",
            "400th iteration, Loss: 75.40324332367213\n",
            "500th iteration, Loss: 72.73525315052333\n",
            "600th iteration, Loss: 70.74399703698816\n",
            "700th iteration, Loss: 69.22173752643388\n",
            "800th iteration, Loss: 68.03448316112883\n",
            "900th iteration, Loss: 67.09283515033924\n",
            "thetas[1]: [-1.76749856  5.28923681]\n"
          ]
        }
      ]
    },
    {
      "cell_type": "code",
      "metadata": {
        "colab": {
          "base_uri": "https://localhost:8080/"
        },
        "id": "m0_OPcZAnu2j",
        "outputId": "3d55b89c-de52-49eb-ccc4-80032a899124"
      },
      "source": [
        "#if the label == 1, it is versicolor.\n",
        "#else, it is not versicolor.\n",
        "def is_versi(x):\n",
        "    t = x.astype(int)\n",
        "    if (t == 1):\n",
        "        return 1.0\n",
        "    else:\n",
        "        return 0.0\n",
        "\n",
        "#if the label == 0, it is Setosa.\n",
        "#else, it is not Setosa.\n",
        "def is_setosa(x):\n",
        "    t = x.astype(int)\n",
        "    if (t > 0):\n",
        "        return 0.0\n",
        "    else:\n",
        "        return 1.0\n",
        "\n",
        "#gets the h(x) for Virginica\n",
        "def y_vir_raw(x):\n",
        "    return sigmoid(thetas[1][0]*x[0] + thetas[1][1]*x[1])\n",
        "\n",
        "#train theta_1, setosa or not.\n",
        "#does not split into test/train set. use all 150 data points\n",
        "thetas[0] = [0.0, 0.0]\n",
        "learning_rate = 1e-3\n",
        "#print(thetas[0])\n",
        "for train in range(iterate):\n",
        "\n",
        "    #set gradient, loss as 0\n",
        "    grads = np.zeros((2,2))\n",
        "    loss = np.zeros(2)\n",
        "    \n",
        "    for i in range(150):\n",
        "        #ith data\n",
        "        x_i = total_data[i][0:2]\n",
        "        #ith label\n",
        "        label_i = total_data[i][2]\n",
        "\n",
        "        #z = theta[0]*x\n",
        "        y_setosa_z = thetas[0][0]*(x_i[0]) + thetas[0][1]*x_i[1]\n",
        "        #equivalent to y_hat = sigmoid(z)\n",
        "        y_setosa = sigmoid(y_setosa_z)\n",
        "\n",
        "        y = 0.0\n",
        "        #if the true label is setosa, answer y is 1.\n",
        "        if (is_setosa(label_i) == 1.0):\n",
        "            y = 1.0\n",
        "        #if the true label is virginica,\n",
        "        #and prediction value for Setosa is smaller than Virginica,\n",
        "        #which means that Virginica is not classified as Setosa\n",
        "        #answer y is 1.\n",
        "        elif (is_virginica(label_i) and (y_setosa < y_vir_raw(x_i)) ):\n",
        "            y = 1.0\n",
        "        #in other cases, answer y is 0\n",
        "        else:\n",
        "            y = 0.0\n",
        "        \n",
        "        grads[0][0] += (y_setosa - y) * x_i[0]\n",
        "        grads[0][1] += (y_setosa - y) * x_i[1]\n",
        "\n",
        "        loss[0] += logistic_loss_function(y_setosa, y)\n",
        "\n",
        "    if(train % 100 == 0):\n",
        "        #print(f'{train}th iteration, Loss: {loss[0]}')\n",
        "    #gradient descent\n",
        "    thetas[0][0] -= learning_rate * (grads[0][0])\n",
        "    thetas[0][1] -= learning_rate * (grads[0][1])\n",
        "\n",
        "print(f'thetas[0]: {thetas[0]}')"
      ],
      "execution_count": 3,
      "outputs": [
        {
          "output_type": "stream",
          "name": "stdout",
          "text": [
            "0th iteration, Loss: 103.97207708399195\n",
            "100th iteration, Loss: 102.88374681393846\n",
            "200th iteration, Loss: 102.57341085339789\n",
            "300th iteration, Loss: 102.24870680011564\n",
            "400th iteration, Loss: 102.03986658409809\n",
            "500th iteration, Loss: 101.90529119397081\n",
            "600th iteration, Loss: 102.22596413318796\n",
            "700th iteration, Loss: 102.1789571894553\n",
            "800th iteration, Loss: 102.14955249827267\n",
            "900th iteration, Loss: 101.6852331384382\n",
            "thetas[0]: [-0.42467199  1.19754823]\n"
          ]
        }
      ]
    },
    {
      "cell_type": "code",
      "metadata": {
        "colab": {
          "base_uri": "https://localhost:8080/"
        },
        "id": "mVcD1MHzJRqx",
        "outputId": "00f7d08c-c351-4492-e178-b072deb7f9ec"
      },
      "source": [
        "print(f'final parameter thetas:\\n {thetas}')"
      ],
      "execution_count": 4,
      "outputs": [
        {
          "output_type": "stream",
          "name": "stdout",
          "text": [
            "final parameter thetas:\n",
            " [[-0.42467199  1.19754823]\n",
            " [-1.76749856  5.28923681]]\n"
          ]
        }
      ]
    },
    {
      "cell_type": "code",
      "metadata": {
        "id": "X3QZxzFgvrap",
        "colab": {
          "base_uri": "https://localhost:8080/",
          "height": 319
        },
        "outputId": "7a35fe12-6719-45a5-b8e4-0d26f17ce4f1"
      },
      "source": [
        "# plot function _ should not change\n",
        "line_x = [i for i in np.arange(0.0, 9.0, 0.9)]\n",
        "line1_y = [((thetas[0][0] * i) + thetas[0][1]) for i in np.arange(0.0, 4.0, 0.4)]\n",
        "line2_y = [((thetas[1][0] * i) + thetas[1][1]) for i in np.arange(0.0, 4.0, 0.4)]\n",
        "plt.title(\"Question 3 Result\", fontsize=15)\n",
        "plt.scatter(total_data[:, 0], total_data[:, 1], c=total_data[:, 2], cmap='brg', s=20)\n",
        "plt.plot(line_x, line1_y, 'b-', line_x, line2_y, 'g-')\n",
        "#plt.plot(line_x, line1_y, 'b-', linewidth = 10)\n",
        "\n",
        "plt.xlabel(\"Petal Length\", fontsize=13)\n",
        "plt.ylabel(\"Petal Width\", fontsize=13)\n",
        "plt.xlim(0, 8)\n",
        "plt.ylim(0, 3)\n",
        "plt.grid(alpha=0.5, linestyle='--')\n",
        "plt.show()\n",
        "plt.savefig('aia1_q3.png') "
      ],
      "execution_count": 5,
      "outputs": [
        {
          "output_type": "display_data",
          "data": {
            "image/png": "[encoded data removed]",
            "text/plain": [
              "<Figure size 432x288 with 1 Axes>"
            ]
          },
          "metadata": {
            "needs_background": "light"
          }
        },
        {
          "output_type": "display_data",
          "data": {
            "text/plain": [
              "<Figure size 432x288 with 0 Axes>"
            ]
          },
          "metadata": {}
        }
      ]
    },
    {
      "cell_type": "markdown",
      "metadata": {
        "id": "H-36E1tE3LN4"
      },
      "source": [
        "# ** **From below is not the content of this Q2.** **  \n",
        "Below is for my custom tests and failed approaches."
      ]
    },
    {
      "cell_type": "code",
      "metadata": {
        "colab": {
          "base_uri": "https://localhost:8080/"
        },
        "id": "EPbbUlFRwvDS",
        "outputId": "28cd2644-259e-4a4c-85dc-30ea3d614fca"
      },
      "source": [
        "#linear regression setosa, for comparison\n",
        "\n",
        "#change the label of non-setosa as 1.\n",
        "#this is only for classifying setosa.\n",
        "data_setosa = total_data[0:100]\n",
        "for i in range(100):\n",
        "    if (data_setosa[i][2] != 0):\n",
        "        data_setosa[i][2] = 1\n",
        "#print(data_setosa)\n",
        "\n",
        "#get features\n",
        "x = data_setosa[:,0:2]\n",
        "#get label\n",
        "y = data_setosa[:,2]\n",
        "\n",
        "xT = np.transpose(x)\n",
        "xTx = np.matmul(xT, x)\n",
        "xTx_inverse = np.linalg.inv(xTx)\n",
        "#compute analytical model (xTx)^(-1)*xT*y\n",
        "theta_star = np.linalg.multi_dot([xTx_inverse,xT,y])\n",
        "print(theta_star)"
      ],
      "execution_count": null,
      "outputs": [
        {
          "output_type": "stream",
          "name": "stdout",
          "text": [
            "[-0.08560379  0.98874982]\n"
          ]
        }
      ]
    },
    {
      "cell_type": "code",
      "metadata": {
        "id": "UqwnG8s_48yc"
      },
      "source": [
        "#gradient calculation phase.s\n",
        "        #(h(x[i]) - y)*x[i][j]\n",
        "        #if label is setosa, answer y == 1\n",
        "        #else, answer y == 0\n",
        "        y = 0.0\n",
        "        #if (y_vir == 0.0 and is_setosa(l_i) == 1.0):\n",
        "        #    y = 1.0\n",
        "        if (is_setosa(l_i) == 1.0):\n",
        "            y = 1.0\n",
        "        #elif (y_vir == 1.0 and is_virginica(l_i) == 1.0 and y_hat_round(y_setosa) == 0.0):\n",
        "        #    y = 1.0\n",
        "        elif (is_virginica(l_i) and (y_setosa < y_vir_raw(a_i)) ):\n",
        "            y = 1.0\n",
        "        else:\n",
        "            y = 0.0"
      ],
      "execution_count": null,
      "outputs": []
    },
    {
      "cell_type": "markdown",
      "metadata": {
        "id": "seU_IvHZN5Yi"
      },
      "source": [
        "\n",
        "\n",
        "```python\n",
        "#below are miscellaneous codes\n",
        "#this is not part of the HW.\n",
        "\n",
        "#precision check\n",
        "\n",
        "#check setosa or not\n",
        "cnt = 0\n",
        "for i in range(150):\n",
        "    x_i = total_data[i][0:2]\n",
        "    y_label = total_data[i][2]\n",
        "\n",
        "    #get prediction value\n",
        "    y_setosa_z = thetas[0][0]*x_i[0] + thetas[0][1]*x_i[1]\n",
        "    y_hat = sigmoid(y_setosa_z)\n",
        "    #round up prediction. p >= 0.5 --> 1/ p < 0.5 --> 0\n",
        "    y_prediction = y_hat_round(y_hat)\n",
        "\n",
        "    #two correct predictions:\n",
        "    #1. classify setosa as setosa(predicton > 0.5)\n",
        "    #2. classify non-setosa as non-setosa(prediction < 0.5)\n",
        "    if(y_prediction == 1.0 and y_label == 0):\n",
        "        cnt += 1\n",
        "    elif(y_prediction == 0.0 and y_label != 0):\n",
        "        cnt += 1\n",
        "print(\"Setosa accuracy\")\n",
        "print(cnt/150)\n",
        "\n",
        "cnt = 0\n",
        "#same method as above.\n",
        "#for virginica\n",
        "for i in range(150):\n",
        "    x_i = total_data[i][0:2]\n",
        "    y_label = total_data[i][2]\n",
        "\n",
        "    y_vir_z = thetas[1][0]*x_i[0] + thetas[1][1]*x_i[1]\n",
        "    y_hat = sigmoid(y_vir_z)\n",
        "\n",
        "    y_prediction = y_hat_round(y_hat)\n",
        "    #print(f'y_label {y_label}, y_hat {y_hat}')\n",
        "    if(y_prediction == 1.0 and y_label == 2):\n",
        "        cnt += 1\n",
        "    elif(y_prediction == 0.0 and y_label != 2):\n",
        "        cnt += 1\n",
        "\n",
        "print(\"virginica accuracy\")\n",
        "print(cnt/150)\n",
        "\n",
        "#gradient descent fails at classifying setosa.\n",
        "for i in idx:\n",
        "    #for i in range(100):\n",
        "        x_i = total_data[i][0:2]\n",
        "\n",
        "        label_i = total_data[i][2]\n",
        "\n",
        "\n",
        "        y_setosa_z = thetas[0][0]*x_i[0] + thetas[0][1]*x_i[1]\n",
        "        y_setosa = sigmoid(y_setosa_z)\n",
        "\n",
        "        grads[0][0] += (y_setosa - is_setosa(label_i)) * x_i[0]\n",
        "        grads[0][1] += (y_setosa - is_setosa(label_i)) * x_i[1]\n",
        "\n",
        "        loss[0] += logistic_loss_function(y_setosa, is_setosa(label_i))\n",
        "\n",
        "    thetas[0][0] -= learning_rate * grads[0][0]\n",
        "    thetas[0][1] -= learning_rate * grads[0][1]\n",
        "\n",
        "#data preprocess\n",
        "#normalization, standardization\n",
        "petal_len = total_data[:,[0]]\n",
        "len_std = np.std(petal_len)\n",
        "len_mean = np.mean(petal_len)\n",
        "#print(petal_len)\n",
        "\n",
        "petal_width = total_data[:,[1]]\n",
        "width_std = np.std(petal_width)\n",
        "width_mean = np.mean(petal_width)\n",
        "\n",
        "normalized_data = np.zeros((150,3))\n",
        "for i in range(150):\n",
        "    normalized_data[i][0] = (total_data[i][0] - len_mean) / len_std\n",
        "    normalized_data[i][1] = (total_data[i][1] - width_mean) / width_std\n",
        "    normalized_data[i][2] = total_data[i][2]\n",
        "\n",
        "\n",
        "#linear regression\n",
        "#train theta_1, setosa or not\n",
        "#apply analytical method\n",
        "data_setosa = total_data.copy()\n",
        "\n",
        "#change the label of non-setosa as 1.\n",
        "#this is only for classifying setosa.\n",
        "for i in range(100):\n",
        "    if (data_setosa[i][2] != 0):\n",
        "        data_setosa[i][2] = 1\n",
        "#print(data_setosa)\n",
        "\n",
        "#get features\n",
        "x = data_setosa[:,0:2]\n",
        "#get label\n",
        "y = data_setosa[:,2]\n",
        "\n",
        "xT = np.transpose(x)\n",
        "xTx = np.matmul(xT, x)\n",
        "xTx_inverse = np.linalg.inv(xTx)\n",
        "#compute analytical model (xTx)^(-1)*xT*y\n",
        "theta_star = np.linalg.multi_dot([xTx_inverse,xT,y])\n",
        "print(theta_star)\n",
        "\n",
        "thetas[0] = theta_star\n",
        "#[[ 1.01661462 -4.94138402]\n",
        "#[-1.76749856  5.28923681]]\n",
        "\n",
        "for i in range(150):\n",
        "    a_i = total_data[i][0:2]\n",
        "    print(sigmoid(thetas[1][0]*(a_i[0]) + thetas[1][1]*a_i[1]), thetas[1][0]*(a_i[0]) + thetas[1][1]*a_i[1])\n",
        "\n",
        "#for i in range(150):\n",
        "#    if(i%50 == 0):\n",
        "#        print(\"==============\")\n",
        "#    a_i = total_data[i][0:2]\n",
        "#    print(sigmoid(thetas[0][0]*(a_i[0]) + thetas[0][1]*a_i[1]), thetas[0][0]*(a_i[0]) + thetas[0][1]*a_i[1])\n",
        "```\n",
        "\n"
      ]
    }
  ]
}