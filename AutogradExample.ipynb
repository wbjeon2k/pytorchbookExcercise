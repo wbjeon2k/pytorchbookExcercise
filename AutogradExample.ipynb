{
 "cells": [
  {
   "cell_type": "code",
   "execution_count": 1,
   "id": "3527738a",
   "metadata": {},
   "outputs": [
    {
     "name": "stdout",
     "output_type": "stream",
     "text": [
      "Hello IPYNB!\n"
     ]
    }
   ],
   "source": [
    "print(\"Hello IPYNB!\")"
   ]
  },
  {
   "cell_type": "code",
   "execution_count": 2,
   "id": "f682e896",
   "metadata": {},
   "outputs": [],
   "source": [
    "import torch\n",
    "\n",
    "\n",
    "        "
   ]
  },
  {
   "cell_type": "code",
   "execution_count": 3,
   "id": "84b94319",
   "metadata": {},
   "outputs": [
    {
     "name": "stdout",
     "output_type": "stream",
     "text": [
      "Iteration:  100 \t Loss:  377.32275390625\n",
      "Iteration:  200 \t Loss:  7.438838958740234\n",
      "Iteration:  300 \t Loss:  7.5215630531311035\n",
      "Iteration:  400 \t Loss:  15.043623924255371\n",
      "Iteration:  500 \t Loss:  7.936394214630127\n"
     ]
    }
   ],
   "source": [
    "import torch\n",
    "chk = torch.cuda.is_available()\n",
    "\n",
    "if (chk):\n",
    "    DEVICE = torch.device('cuda')\n",
    "else:\n",
    "    DEVICE = torch.device('cpu')\n",
    "    \n",
    "batch_size = 64\n",
    "input_size = 1000\n",
    "hidden_size = 100\n",
    "output_size = 10\n",
    "\n",
    "x = torch.randn(batch_size,\n",
    "                input_size,\n",
    "                device = DEVICE,\n",
    "                dtype = torch.float,\n",
    "                requires_grad = False)\n",
    "\n",
    "y = torch.randn(batch_size,\n",
    "                output_size,\n",
    "                device = DEVICE,\n",
    "                dtype = torch.float,\n",
    "                requires_grad = False)\n",
    "\n",
    "w1 = torch.randn(input_size,\n",
    "                hidden_size,\n",
    "                device = DEVICE,\n",
    "                dtype = torch.float,\n",
    "                requires_grad = True)\n",
    "\n",
    "w2 = torch.randn(hidden_size,\n",
    "                output_size,\n",
    "                device = DEVICE,\n",
    "                dtype = torch.float,\n",
    "                requires_grad = True)\n",
    "\n",
    "\n",
    "learning_rate = 1e-6\n",
    "\n",
    "for t in range(1,501):\n",
    "    y_pred = x.mm(w1).clamp(min = 0).mm(w2)\n",
    "    \n",
    "    loss = (y_pred - y).pow(2).sum()\n",
    "    \n",
    "    if(t%100 == 0):\n",
    "        print(\"Iteration: \", t, \"\\t\", \"Loss: \", loss.item())\n",
    "       \n",
    "    loss.backward()\n",
    "    \n",
    "    with torch.no_grad():\n",
    "        w1 -= learning_rate * w1.grad\n",
    "        w2 -= learning_rate * w2.grad\n",
    "        \n",
    "        w1.grad.zero_()\n",
    "        w2.grad.zero_()"
   ]
  },
  {
   "cell_type": "code",
   "execution_count": 5,
   "id": "289fbca5",
   "metadata": {},
   "outputs": [],
   "source": [
    "# MNIST MLP example"
   ]
  },
  {
   "cell_type": "code",
   "execution_count": 6,
   "id": "9df8cafb",
   "metadata": {},
   "outputs": [],
   "source": [
    "# Checnk if it works"
   ]
  },
  {
   "cell_type": "code",
   "execution_count": null,
   "id": "f29df931",
   "metadata": {},
   "outputs": [],
   "source": []
  }
 ],
 "metadata": {
  "kernelspec": {
   "display_name": "PytorchBook",
   "language": "python",
   "name": "pytorchbook"
  },
  "language_info": {
   "codemirror_mode": {
    "name": "ipython",
    "version": 3
   },
   "file_extension": ".py",
   "mimetype": "text/x-python",
   "name": "python",
   "nbconvert_exporter": "python",
   "pygments_lexer": "ipython3",
   "version": "3.8.11"
  }
 },
 "nbformat": 4,
 "nbformat_minor": 5
}
